{
  "nbformat": 4,
  "nbformat_minor": 0,
  "metadata": {
    "colab": {
      "name": "ASSIGNMENT1.ipynb",
      "provenance": [],
      "authorship_tag": "ABX9TyPy/7HotjGBZIdUM4TPjtqW",
      "include_colab_link": true
    },
    "kernelspec": {
      "name": "python3",
      "display_name": "Python 3"
    }
  },
  "cells": [
    {
      "cell_type": "markdown",
      "metadata": {
        "id": "view-in-github",
        "colab_type": "text"
      },
      "source": [
        "<a href=\"https://colab.research.google.com/github/subhram260/google-colab/blob/main/ASSIGNMENT1.ipynb\" target=\"_parent\"><img src=\"https://colab.research.google.com/assets/colab-badge.svg\" alt=\"Open In Colab\"/></a>"
      ]
    },
    {
      "cell_type": "markdown",
      "metadata": {
        "id": "9dw85zLHoQXD"
      },
      "source": [
        " 1) wap to input your name ,age and address and print them."
      ]
    },
    {
      "cell_type": "code",
      "metadata": {
        "colab": {
          "base_uri": "https://localhost:8080/"
        },
        "id": "Twbz2HPPZFvG",
        "outputId": "5cfea632-89e8-4a4e-b958-564dfa879932"
      },
      "source": [
        "#1\r\n",
        "name=input(\"Enter your name : \")\r\n",
        "age=input(\"Enter your age : \")\r\n",
        "address=input(\"Enter your address : \")\r\n",
        "print(\"\\nyour name is\",name,\"\\nyour age is\",age,\"\\nyour address is\",address)"
      ],
      "execution_count": null,
      "outputs": [
        {
          "output_type": "stream",
          "text": [
            "Enter your name : subhram patel\n",
            "Enter your age : 19\n",
            "Enter your address : sundargarh\n",
            "your name is subhram patel \n",
            "your age is 19 \n",
            "your address is sundargarh\n"
          ],
          "name": "stdout"
        }
      ]
    },
    {
      "cell_type": "markdown",
      "metadata": {
        "id": "qwVyo-uion03"
      },
      "source": [
        " 2)wap to input your marks for three subjects then find the sum and percentage"
      ]
    },
    {
      "cell_type": "code",
      "metadata": {
        "id": "VuyHXdOVbj4N",
        "colab": {
          "base_uri": "https://localhost:8080/"
        },
        "outputId": "75419201-5ed4-4a8e-b0bc-e9d0a09eb058"
      },
      "source": [
        "#2\r\n",
        "mark1=int(input(\"Enter your mark of 1st subject : \"))\r\n",
        "mark2=int(input(\"Enter your mark of 2nd subject : \"))\r\n",
        "mark3=int(input(\"Enter your mark of 3rd subject : \"))\r\n",
        "sum=mark1+mark2+mark3\r\n",
        "print(\"The sum of all marks is :\",sum,\"\\nyour percentage is :\",(sum/300)*100 )"
      ],
      "execution_count": 6,
      "outputs": [
        {
          "output_type": "stream",
          "text": [
            "Enter your mark of 1st subject : 34\n",
            "Enter your mark of 2nd subject : 34\n",
            "Enter your mark of 3rd subject : 45\n",
            "The sum of all marks is : 113 \n",
            "your percentage is : 37.666666666666664\n"
          ],
          "name": "stdout"
        }
      ]
    },
    {
      "cell_type": "markdown",
      "metadata": {
        "id": "MDSpSx1rpFIG"
      },
      "source": [
        " 3)wap to find area of circle."
      ]
    },
    {
      "cell_type": "code",
      "metadata": {
        "colab": {
          "base_uri": "https://localhost:8080/"
        },
        "id": "JrdcCsQugK2A",
        "outputId": "63e5aedf-4bb9-4370-8dc2-cf8ed11fde37"
      },
      "source": [
        "#3\r\n",
        "import math\r\n",
        "from math import pi\r\n",
        "r=int(input(\"Enter the radius of the circle:\"))\r\n",
        "print(\"The area of the circle is:\",math.pi*r**2)"
      ],
      "execution_count": 7,
      "outputs": [
        {
          "output_type": "stream",
          "text": [
            "Enter the radius of the circle:5\n",
            "The area of the circle is: 78.53981633974483\n"
          ],
          "name": "stdout"
        }
      ]
    },
    {
      "cell_type": "markdown",
      "metadata": {
        "id": "PMawR-6lpLoF"
      },
      "source": [
        " 4)wap to find area and perimeter of a circle"
      ]
    },
    {
      "cell_type": "code",
      "metadata": {
        "colab": {
          "base_uri": "https://localhost:8080/"
        },
        "id": "UU2goGYphntY",
        "outputId": "92ae4fc9-b956-4822-a807-537895a295ec"
      },
      "source": [
        "#4\r\n",
        "print(\"Enter base and height for calculating Area:\")\r\n",
        "b=int(input(\"Enter base: \"))\r\n",
        "h=int(input(\"Enter height: \"))\r\n",
        "print(\"Area of trangle:\",1/2*b*h)\r\n",
        "print(\"Enter value of all sides of trangle for calculating perimeter:\")\r\n",
        "a=int(input(\"Enter a: \"))\r\n",
        "b=int(input(\"Enter b: \"))\r\n",
        "c=int(input(\"Enter c: \"))\r\n",
        "print(\"perimeter of trangle:\",a+b+c)"
      ],
      "execution_count": 8,
      "outputs": [
        {
          "output_type": "stream",
          "text": [
            "Enter base and height for calculating Area:\n",
            "Enter base: 23\n",
            "Enter height: 34\n",
            "Area of trangle: 391.0\n",
            "Enter value of all sides of trangle for calculating perimeter:\n",
            "Enter a: 12\n",
            "Enter b: 14\n",
            "Enter c: 13\n",
            "perimeter of trangle: 39\n"
          ],
          "name": "stdout"
        }
      ]
    },
    {
      "cell_type": "markdown",
      "metadata": {
        "id": "d0Gjy0PCphA0"
      },
      "source": [
        " 5)wap to find volume of a sphere"
      ]
    },
    {
      "cell_type": "code",
      "metadata": {
        "colab": {
          "base_uri": "https://localhost:8080/"
        },
        "id": "gBpax6p5lGel",
        "outputId": "980085a2-6bfb-49b5-e7f9-c9cb7631b59b"
      },
      "source": [
        "#5\r\n",
        "import math\r\n",
        "from math import pi\r\n",
        "r=int(input(\"Enter the radius of the sphere:\"))\r\n",
        "print(\"volume of sphere is\",(4/3)*math.pi*(r**3))"
      ],
      "execution_count": 11,
      "outputs": [
        {
          "output_type": "stream",
          "text": [
            "Enter the radius of the sphere:34\n",
            "volume of sphere is 164636.21020892428\n"
          ],
          "name": "stdout"
        }
      ]
    },
    {
      "cell_type": "markdown",
      "metadata": {
        "id": "GBDjUSlSpsP0"
      },
      "source": [
        " 6)wap to create a list by initializing with 5 different fruits name and display them "
      ]
    },
    {
      "cell_type": "code",
      "metadata": {
        "colab": {
          "base_uri": "https://localhost:8080/"
        },
        "id": "Bi2slN9Sl6LJ",
        "outputId": "8b597398-cd2b-4b57-bb28-3c890be8856f"
      },
      "source": [
        "#6\r\n",
        "fruits=['Apple','Banana','Blackberries','Blackcurrant','Breadfruit']\r\n",
        "for item in fruits:\r\n",
        "    print(item)"
      ],
      "execution_count": 13,
      "outputs": [
        {
          "output_type": "stream",
          "text": [
            "Apple\n",
            "Banana\n",
            "Blackberries\n",
            "Blackcurrant\n",
            "Breadfruit\n"
          ],
          "name": "stdout"
        }
      ]
    },
    {
      "cell_type": "markdown",
      "metadata": {
        "id": "1ZT0sBGlqK96"
      },
      "source": [
        "7)wap to input string and display reverse string."
      ]
    },
    {
      "cell_type": "code",
      "metadata": {
        "colab": {
          "base_uri": "https://localhost:8080/"
        },
        "id": "9tPWl2jrm5Oe",
        "outputId": "9f47e160-005c-4f3d-f020-0d6d4c818d80"
      },
      "source": [
        "#7\r\n",
        "string=input(\"Enter your string:\")\r\n",
        "print(\"reverse string is:\",string[::-1])"
      ],
      "execution_count": 18,
      "outputs": [
        {
          "output_type": "stream",
          "text": [
            "Enter your string:apple\n",
            "reverse string is: elppa\n"
          ],
          "name": "stdout"
        }
      ]
    }
  ]
}
