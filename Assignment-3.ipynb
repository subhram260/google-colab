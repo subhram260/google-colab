{
  "nbformat": 4,
  "nbformat_minor": 0,
  "metadata": {
    "colab": {
      "name": "Untitled1.ipynb",
      "provenance": [],
      "authorship_tag": "ABX9TyPgpOHFyOirzPIyNZiKUVba",
      "include_colab_link": true
    },
    "kernelspec": {
      "name": "python3",
      "display_name": "Python 3"
    },
    "language_info": {
      "name": "python"
    }
  },
  "cells": [
    {
      "cell_type": "markdown",
      "metadata": {
        "id": "view-in-github",
        "colab_type": "text"
      },
      "source": [
        "<a href=\"https://colab.research.google.com/github/subhram260/google-colab/blob/main/Assignment-3.ipynb\" target=\"_parent\"><img src=\"https://colab.research.google.com/assets/colab-badge.svg\" alt=\"Open In Colab\"/></a>"
      ]
    },
    {
      "cell_type": "code",
      "metadata": {
        "colab": {
          "base_uri": "https://localhost:8080/"
        },
        "id": "f4LMR9vmZLld",
        "outputId": "5438ba5c-f419-4a70-cd19-8facaa4b281b"
      },
      "source": [
        "l1=[(1,2,3),(4,5,6),(7,8,9)]\n",
        "print(l1)\n",
        "nl=[]\n",
        "for i in l1:\n",
        "  s=0\n",
        "  for j in i:\n",
        "    s+=j\n",
        "  nl.append(s) \n",
        "  print(s,end=\" \") \n",
        "print()  \n",
        "print(nl)"
      ],
      "execution_count": 18,
      "outputs": [
        {
          "output_type": "stream",
          "text": [
            "[(1, 2, 3), (4, 5, 6), (7, 8, 9)]\n",
            "6 15 24 \n",
            "[6, 15, 24]\n"
          ],
          "name": "stdout"
        }
      ]
    },
    {
      "cell_type": "code",
      "metadata": {
        "id": "9In9KSKgZ4nv"
      },
      "source": [
        ""
      ],
      "execution_count": null,
      "outputs": []
    }
  ]
}