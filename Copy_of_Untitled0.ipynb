{
  "nbformat": 4,
  "nbformat_minor": 0,
  "metadata": {
    "colab": {
      "name": "Copy of Untitled0.ipynb",
      "provenance": [],
      "authorship_tag": "ABX9TyOpKqg15A+N7XjpEy7qSelQ",
      "include_colab_link": true
    },
    "kernelspec": {
      "name": "python3",
      "display_name": "Python 3"
    }
  },
  "cells": [
    {
      "cell_type": "markdown",
      "metadata": {
        "id": "view-in-github",
        "colab_type": "text"
      },
      "source": [
        "<a href=\"https://colab.research.google.com/github/subhram260/google-colab/blob/main/Copy_of_Untitled0.ipynb\" target=\"_parent\"><img src=\"https://colab.research.google.com/assets/colab-badge.svg\" alt=\"Open In Colab\"/></a>"
      ]
    },
    {
      "cell_type": "code",
      "metadata": {
        "colab": {
          "base_uri": "https://localhost:8080/"
        },
        "id": "Twbz2HPPZFvG",
        "outputId": "5cfea632-89e8-4a4e-b958-564dfa879932"
      },
      "source": [
        "#1\r\n",
        "name=input(\"Enter your name : \")\r\n",
        "age=input(\"Enter your age : \")\r\n",
        "address=input(\"Enter your address : \")\r\n",
        "print(\"\\nyour name is\",name,\"\\nyour age is\",age,\"\\nyour address is\",address)"
      ],
      "execution_count": null,
      "outputs": [
        {
          "output_type": "stream",
          "text": [
            "Enter your name : subhram patel\n",
            "Enter your age : 19\n",
            "Enter your address : sundargarh\n",
            "your name is subhram patel \n",
            "your age is 19 \n",
            "your address is sundargarh\n"
          ],
          "name": "stdout"
        }
      ]
    },
    {
      "cell_type": "code",
      "metadata": {
        "id": "VuyHXdOVbj4N",
        "colab": {
          "base_uri": "https://localhost:8080/"
        },
        "outputId": "75419201-5ed4-4a8e-b0bc-e9d0a09eb058"
      },
      "source": [
        "#2\r\n",
        "mark1=int(input(\"Enter your mark of 1st subject : \"))\r\n",
        "mark2=int(input(\"Enter your mark of 2nd subject : \"))\r\n",
        "mark3=int(input(\"Enter your mark of 3rd subject : \"))\r\n",
        "sum=mark1+mark2+mark3\r\n",
        "print(\"The sum of all marks is :\",sum,\"\\nyour percentage is :\",(sum/300)*100 )"
      ],
      "execution_count": 6,
      "outputs": [
        {
          "output_type": "stream",
          "text": [
            "Enter your mark of 1st subject : 34\n",
            "Enter your mark of 2nd subject : 34\n",
            "Enter your mark of 3rd subject : 45\n",
            "The sum of all marks is : 113 \n",
            "your percentage is : 37.666666666666664\n"
          ],
          "name": "stdout"
        }
      ]
    },
    {
      "cell_type": "code",
      "metadata": {
        "id": "JrdcCsQugK2A"
      },
      "source": [
        "*"
      ],
      "execution_count": null,
      "outputs": []
    }
  ]
}