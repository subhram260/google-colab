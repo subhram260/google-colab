{
  "nbformat": 4,
  "nbformat_minor": 0,
  "metadata": {
    "colab": {
      "name": "Assignment-2.ipynb",
      "provenance": [],
      "authorship_tag": "ABX9TyPo3CwetgyJo2GqeFyfQXB4",
      "include_colab_link": true
    },
    "kernelspec": {
      "name": "python3",
      "display_name": "Python 3"
    }
  },
  "cells": [
    {
      "cell_type": "markdown",
      "metadata": {
        "id": "view-in-github",
        "colab_type": "text"
      },
      "source": [
        "<a href=\"https://colab.research.google.com/github/subhram260/google-colab/blob/main/Assignment_2.ipynb\" target=\"_parent\"><img src=\"https://colab.research.google.com/assets/colab-badge.svg\" alt=\"Open In Colab\"/></a>"
      ]
    },
    {
      "cell_type": "markdown",
      "metadata": {
        "id": "CjmAsi6YgDQD"
      },
      "source": [
        "1.Display simple interest and compound interest."
      ]
    },
    {
      "cell_type": "code",
      "metadata": {
        "colab": {
          "base_uri": "https://localhost:8080/"
        },
        "id": "D22QI6aXftR0",
        "outputId": "cbe4919f-cc15-465b-d3d0-76f2310b5028"
      },
      "source": [
        "p=float(input(\"Enter the pincipal amount : \"))\r\n",
        "t=float(input(\"Enter the time : \"))\r\n",
        "r=float(input(\"Enter the rae of interest : \"))\r\n",
        "print(\"Simple interest is\",(p*t*r)/100)\r\n",
        "n=float(input(\"Enter the number of times interest applied per time period :\"))\r\n",
        "print(\"Compound interest is\",p*(1+r/n)**(n*t))"
      ],
      "execution_count": 5,
      "outputs": [
        {
          "output_type": "stream",
          "text": [
            "Enter the pincipal amount : 5000\n",
            "Enter the time : 10\n",
            "Enter the rae of interest : 0.05\n",
            "Simple interest is 25.0\n",
            "Enter the number of times interest applied per time period :12\n",
            "Compound interest is 8235.0474884514\n"
          ],
          "name": "stdout"
        }
      ]
    },
    {
      "cell_type": "markdown",
      "metadata": {
        "id": "f56fertmgXgH"
      },
      "source": [
        "2.Write a program to input 1st name ,mid name and last name into three variable and apply concatinatination"
      ]
    },
    {
      "cell_type": "code",
      "metadata": {
        "colab": {
          "base_uri": "https://localhost:8080/"
        },
        "id": "YGhCRr21gzQu",
        "outputId": "efe4ade5-91c2-4eda-98af-5397adb21cf1"
      },
      "source": [
        "name1=input(\"Enter first name: \")\r\n",
        "name2=input(\"Enter middle name: \")\r\n",
        "name3=input(\"Enter last name: \")\r\n",
        "print(\"\\nafter concatination :\",name1+name2+name3)"
      ],
      "execution_count": 1,
      "outputs": [
        {
          "output_type": "stream",
          "text": [
            "Enter first name: subhram\n",
            "Enter middle name: \n",
            "Enter last name: patel\n",
            "\n",
            "after concatination : subhrampatel\n"
          ],
          "name": "stdout"
        }
      ]
    },
    {
      "cell_type": "markdown",
      "metadata": {
        "id": "RMfJbc9vgyx0"
      },
      "source": [
        "3.Write a program to create a table and display the element of it."
      ]
    },
    {
      "cell_type": "code",
      "metadata": {
        "colab": {
          "base_uri": "https://localhost:8080/"
        },
        "id": "HoVFQsqRhhhx",
        "outputId": "52ac746c-6325-42a4-f19e-ec7b53ff1ffd"
      },
      "source": [
        "demo=[(1,2,3),(4,5,6),(7,8,9)]\r\n",
        "for item in demo:\r\n",
        "  print(item)"
      ],
      "execution_count": 7,
      "outputs": [
        {
          "output_type": "stream",
          "text": [
            "(1, 2, 3)\n",
            "(4, 5, 6)\n",
            "(7, 8, 9)\n"
          ],
          "name": "stdout"
        }
      ]
    },
    {
      "cell_type": "markdown",
      "metadata": {
        "id": "ieLw_SXvnVdl"
      },
      "source": [
        "4.write a program to implement type conversion on different data type."
      ]
    },
    {
      "cell_type": "code",
      "metadata": {
        "colab": {
          "base_uri": "https://localhost:8080/"
        },
        "id": "-S_LIDW4nj-q",
        "outputId": "13eb5562-3adc-4519-d8c0-3859027b8b94"
      },
      "source": [
        "a=input(\"Enter : \")\r\n",
        "print(a,\":\",type(a))\r\n",
        "a=int(a)\r\n",
        "print(a,\":\",type(a))\r\n",
        "a=float(a)\r\n",
        "print(a,\":\",type(a))\r\n"
      ],
      "execution_count": 10,
      "outputs": [
        {
          "output_type": "stream",
          "text": [
            "Enter : 1\n",
            "1 : <class 'str'>\n",
            "1 : <class 'int'>\n",
            "1.0 : <class 'float'>\n"
          ],
          "name": "stdout"
        }
      ]
    },
    {
      "cell_type": "markdown",
      "metadata": {
        "id": "RhHV9bFGnkcL"
      },
      "source": [
        "5.find the distance between two points using pythogorian therom,where the coordinates of the two points given input."
      ]
    },
    {
      "cell_type": "code",
      "metadata": {
        "colab": {
          "base_uri": "https://localhost:8080/"
        },
        "id": "GZ51r3aCo1KC",
        "outputId": "58977bd0-b2d9-4056-9790-3677a74f9fcb"
      },
      "source": [
        "from math import sqrt\r\n",
        "x1=float(input(\"x1 : \"))\r\n",
        "y1=float(input(\"y1 : \"))\r\n",
        "x2=float(input(\"x2 : \"))\r\n",
        "y2=float(input(\"y2 : \"))\r\n",
        "print(\"the distance between two point is\",sqrt((x2-x1)**2+(y2-y1)**2))"
      ],
      "execution_count": 13,
      "outputs": [
        {
          "output_type": "stream",
          "text": [
            "x1 : 34\n",
            "y1 : 45\n",
            "x2 : 24\n",
            "y2 : 23\n",
            "the distance between two point is 24.166091947189145\n"
          ],
          "name": "stdout"
        }
      ]
    }
  ]
}