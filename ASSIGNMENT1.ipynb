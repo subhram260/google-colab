{
  "nbformat": 4,
  "nbformat_minor": 0,
  "metadata": {
    "colab": {
      "name": "ASSIGNMENT1.ipynb",
      "provenance": [],
      "authorship_tag": "ABX9TyO6aTgdA3rOqVbAFuKisvg4",
      "include_colab_link": true
    },
    "kernelspec": {
      "name": "python3",
      "display_name": "Python 3"
    }
  },
  "cells": [
    {
      "cell_type": "markdown",
      "metadata": {
        "id": "view-in-github",
        "colab_type": "text"
      },
      "source": [
        "<a href=\"https://colab.research.google.com/github/subhram260/google-colab/blob/main/ASSIGNMENT1.ipynb\" target=\"_parent\"><img src=\"https://colab.research.google.com/assets/colab-badge.svg\" alt=\"Open In Colab\"/></a>"
      ]
    },
    {
      "cell_type": "code",
      "metadata": {
        "colab": {
          "base_uri": "https://localhost:8080/"
        },
        "id": "Twbz2HPPZFvG",
        "outputId": "5cfea632-89e8-4a4e-b958-564dfa879932"
      },
      "source": [
        "#1\r\n",
        "name=input(\"Enter your name : \")\r\n",
        "age=input(\"Enter your age : \")\r\n",
        "address=input(\"Enter your address : \")\r\n",
        "print(\"\\nyour name is\",name,\"\\nyour age is\",age,\"\\nyour address is\",address)"
      ],
      "execution_count": null,
      "outputs": [
        {
          "output_type": "stream",
          "text": [
            "Enter your name : subhram patel\n",
            "Enter your age : 19\n",
            "Enter your address : sundargarh\n",
            "your name is subhram patel \n",
            "your age is 19 \n",
            "your address is sundargarh\n"
          ],
          "name": "stdout"
        }
      ]
    },
    {
      "cell_type": "code",
      "metadata": {
        "id": "VuyHXdOVbj4N",
        "colab": {
          "base_uri": "https://localhost:8080/"
        },
        "outputId": "75419201-5ed4-4a8e-b0bc-e9d0a09eb058"
      },
      "source": [
        "#2\r\n",
        "mark1=int(input(\"Enter your mark of 1st subject : \"))\r\n",
        "mark2=int(input(\"Enter your mark of 2nd subject : \"))\r\n",
        "mark3=int(input(\"Enter your mark of 3rd subject : \"))\r\n",
        "sum=mark1+mark2+mark3\r\n",
        "print(\"The sum of all marks is :\",sum,\"\\nyour percentage is :\",(sum/300)*100 )"
      ],
      "execution_count": 6,
      "outputs": [
        {
          "output_type": "stream",
          "text": [
            "Enter your mark of 1st subject : 34\n",
            "Enter your mark of 2nd subject : 34\n",
            "Enter your mark of 3rd subject : 45\n",
            "The sum of all marks is : 113 \n",
            "your percentage is : 37.666666666666664\n"
          ],
          "name": "stdout"
        }
      ]
    },
    {
      "cell_type": "code",
      "metadata": {
        "colab": {
          "base_uri": "https://localhost:8080/"
        },
        "id": "JrdcCsQugK2A",
        "outputId": "63e5aedf-4bb9-4370-8dc2-cf8ed11fde37"
      },
      "source": [
        "#3\r\n",
        "import math\r\n",
        "from math import pi\r\n",
        "r=int(input(\"Enter the radius of the circle:\"))\r\n",
        "print(\"The area of the circle is:\",math.pi*r**2)"
      ],
      "execution_count": 7,
      "outputs": [
        {
          "output_type": "stream",
          "text": [
            "Enter the radius of the circle:5\n",
            "The area of the circle is: 78.53981633974483\n"
          ],
          "name": "stdout"
        }
      ]
    },
    {
      "cell_type": "code",
      "metadata": {
        "colab": {
          "base_uri": "https://localhost:8080/"
        },
        "id": "UU2goGYphntY",
        "outputId": "92ae4fc9-b956-4822-a807-537895a295ec"
      },
      "source": [
        "#4\r\n",
        "print(\"Enter base and height for calculating Area:\")\r\n",
        "b=int(input(\"Enter base: \"))\r\n",
        "h=int(input(\"Enter height: \"))\r\n",
        "print(\"Area of trangle:\",1/2*b*h)\r\n",
        "print(\"Enter value of all sides of trangle for calculating perimeter:\")\r\n",
        "a=int(input(\"Enter a: \"))\r\n",
        "b=int(input(\"Enter b: \"))\r\n",
        "c=int(input(\"Enter c: \"))\r\n",
        "print(\"perimeter of trangle:\",a+b+c)"
      ],
      "execution_count": 8,
      "outputs": [
        {
          "output_type": "stream",
          "text": [
            "Enter base and height for calculating Area:\n",
            "Enter base: 23\n",
            "Enter height: 34\n",
            "Area of trangle: 391.0\n",
            "Enter value of all sides of trangle for calculating perimeter:\n",
            "Enter a: 12\n",
            "Enter b: 14\n",
            "Enter c: 13\n",
            "perimeter of trangle: 39\n"
          ],
          "name": "stdout"
        }
      ]
    }
  ]
}