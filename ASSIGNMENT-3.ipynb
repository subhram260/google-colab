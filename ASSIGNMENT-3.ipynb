{
  "nbformat": 4,
  "nbformat_minor": 0,
  "metadata": {
    "colab": {
      "name": "Untitled1.ipynb",
      "provenance": [],
      "authorship_tag": "ABX9TyP9yxL+WshWIZMbKhCfcH2C",
      "include_colab_link": true
    },
    "kernelspec": {
      "name": "python3",
      "display_name": "Python 3"
    },
    "language_info": {
      "name": "python"
    }
  },
  "cells": [
    {
      "cell_type": "markdown",
      "metadata": {
        "id": "view-in-github",
        "colab_type": "text"
      },
      "source": [
        "<a href=\"https://colab.research.google.com/github/subhram260/google-colab/blob/main/ASSIGNMENT-3.ipynb\" target=\"_parent\"><img src=\"https://colab.research.google.com/assets/colab-badge.svg\" alt=\"Open In Colab\"/></a>"
      ]
    },
    {
      "cell_type": "code",
      "metadata": {
        "colab": {
          "base_uri": "https://localhost:8080/"
        },
        "id": "f4LMR9vmZLld",
        "outputId": "5438ba5c-f419-4a70-cd19-8facaa4b281b"
      },
      "source": [
        "l1=[(1,2,3),(4,5,6),(7,8,9)]\n",
        "print(l1)\n",
        "nl=[]\n",
        "for i in l1:\n",
        "  s=0\n",
        "  for j in i:\n",
        "    s+=j\n",
        "  nl.append(s) \n",
        "  print(s,end=\" \") \n",
        "print()  \n",
        "print(nl)"
      ],
      "execution_count": 18,
      "outputs": [
        {
          "output_type": "stream",
          "text": [
            "[(1, 2, 3), (4, 5, 6), (7, 8, 9)]\n",
            "6 15 24 \n",
            "[6, 15, 24]\n"
          ],
          "name": "stdout"
        }
      ]
    },
    {
      "cell_type": "code",
      "metadata": {
        "colab": {
          "base_uri": "https://localhost:8080/"
        },
        "id": "TasWNqaTfFpB",
        "outputId": "d616bc35-ebb5-4642-b3d1-173df9dcc83e"
      },
      "source": [
        "m1=[]\n",
        "n=int(input(\"enter the total number of elements:\"))\n",
        "print(\"enter the element:\")\n",
        "for i in range(0,n): \n",
        "  i=int(input())\n",
        "  if i not in m1:\n",
        "    m1.append(i)\n",
        "print(m1)    "
      ],
      "execution_count": 30,
      "outputs": [
        {
          "output_type": "stream",
          "text": [
            "enter the total number of elements:5\n",
            "enter the element:\n",
            "1\n",
            "3\n",
            "2\n",
            "3\n",
            "1\n",
            "[1, 3, 2]\n"
          ],
          "name": "stdout"
        }
      ]
    },
    {
      "cell_type": "code",
      "metadata": {
        "colab": {
          "base_uri": "https://localhost:8080/"
        },
        "id": "JMNF9Ke-jUIo",
        "outputId": "b219cec1-52d2-4433-d25f-786458e98057"
      },
      "source": [
        "m1=[1,2,3,2,4,5,2,2]\n",
        "m2=[set(m1)]\n",
        "print(m2)"
      ],
      "execution_count": 32,
      "outputs": [
        {
          "output_type": "stream",
          "text": [
            "[{1, 2, 3, 4, 5}]\n"
          ],
          "name": "stdout"
        }
      ]
    },
    {
      "cell_type": "code",
      "metadata": {
        "id": "hh3M73qvjdjz"
      },
      "source": [
        ""
      ],
      "execution_count": null,
      "outputs": []
    }
  ]
}